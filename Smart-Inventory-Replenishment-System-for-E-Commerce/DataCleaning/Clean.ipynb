{
 "cells": [
  {
   "cell_type": "code",
   "execution_count": 2,
   "id": "f7854e49",
   "metadata": {},
   "outputs": [],
   "source": [
    "import numpy as np\n",
    "import pandas as pd \n",
    "import matplotlib.pyplot as plt \n",
    "import seaborn as sns \n",
    "import warnings \n",
    "\n",
    "warnings.filterwarnings(\"ignore\")\n",
    "pd.set_option('display.max_columns', None)"
   ]
  },
  {
   "cell_type": "code",
   "execution_count": 3,
   "id": "323617db",
   "metadata": {},
   "outputs": [],
   "source": [
    "df_os = pd.read_csv('/Users/macintosh/Desktop/Dissertation/orders_and_shipments.csv')\n",
    "df_inv = pd.read_csv('/Users/macintosh/Desktop/Dissertation/inventory.csv')\n"
   ]
  },
  {
   "cell_type": "code",
   "execution_count": 19,
   "id": "7eeb60ee",
   "metadata": {},
   "outputs": [
    {
     "data": {
      "text/plain": [
       "Index(['Order ID', 'Order Item ID', 'Order YearMonth', 'Order Year',\n",
       "       'Order Month', 'Order Day', 'Order Time', 'Order Quantity',\n",
       "       'Product Department', 'Product Category', 'Product Name', 'Customer ID',\n",
       "       'Customer Market', 'Customer Region', 'Customer Country',\n",
       "       'Warehouse Country', 'Shipment Year', 'Shipment Month', 'Shipment Day',\n",
       "       'Shipment Mode', 'Shipment Days - Scheduled', 'Gross Sales',\n",
       "       'Discount %', 'Profit', 'date'],\n",
       "      dtype='object')"
      ]
     },
     "execution_count": 19,
     "metadata": {},
     "output_type": "execute_result"
    }
   ],
   "source": [
    "df_os.columns"
   ]
  },
  {
   "cell_type": "code",
   "execution_count": 5,
   "id": "1975d4eb",
   "metadata": {},
   "outputs": [
    {
     "data": {
      "application/vnd.microsoft.datawrangler.viewer.v0+json": {
       "columns": [
        {
         "name": "index",
         "rawType": "int64",
         "type": "integer"
        },
        {
         "name": "Order ID ",
         "rawType": "int64",
         "type": "integer"
        },
        {
         "name": " Order Item ID ",
         "rawType": "int64",
         "type": "integer"
        },
        {
         "name": " Order YearMonth ",
         "rawType": "int64",
         "type": "integer"
        },
        {
         "name": " Order Year ",
         "rawType": "int64",
         "type": "integer"
        },
        {
         "name": " Order Month ",
         "rawType": "int64",
         "type": "integer"
        },
        {
         "name": " Order Day ",
         "rawType": "int64",
         "type": "integer"
        },
        {
         "name": "Order Time",
         "rawType": "object",
         "type": "string"
        },
        {
         "name": "Order Quantity",
         "rawType": "int64",
         "type": "integer"
        },
        {
         "name": "Product Department",
         "rawType": "object",
         "type": "string"
        },
        {
         "name": "Product Category",
         "rawType": "object",
         "type": "string"
        },
        {
         "name": "Product Name",
         "rawType": "object",
         "type": "string"
        },
        {
         "name": " Customer ID ",
         "rawType": "int64",
         "type": "integer"
        },
        {
         "name": "Customer Market",
         "rawType": "object",
         "type": "string"
        },
        {
         "name": "Customer Region",
         "rawType": "object",
         "type": "string"
        },
        {
         "name": "Customer Country",
         "rawType": "object",
         "type": "string"
        },
        {
         "name": "Warehouse Country",
         "rawType": "object",
         "type": "string"
        },
        {
         "name": "Shipment Year",
         "rawType": "int64",
         "type": "integer"
        },
        {
         "name": "Shipment Month",
         "rawType": "int64",
         "type": "integer"
        },
        {
         "name": "Shipment Day",
         "rawType": "int64",
         "type": "integer"
        },
        {
         "name": "Shipment Mode",
         "rawType": "object",
         "type": "string"
        },
        {
         "name": " Shipment Days - Scheduled ",
         "rawType": "int64",
         "type": "integer"
        },
        {
         "name": " Gross Sales ",
         "rawType": "int64",
         "type": "integer"
        },
        {
         "name": " Discount % ",
         "rawType": "object",
         "type": "string"
        },
        {
         "name": " Profit ",
         "rawType": "int64",
         "type": "integer"
        }
       ],
       "ref": "c44f83e6-528e-4bfa-bc1e-978268d00efb",
       "rows": [
        [
         "0",
         "1",
         "4381",
         "202101",
         "2021",
         "1",
         "1",
         "2:48",
         "1",
         "Fan Shop",
         "Water Sports",
         "Pelican Sunstream 100 Kayak",
         "7399",
         "LATAM",
         "Central America",
         "Nicaragua",
         "USA",
         "2021",
         "1",
         "6",
         "Same Day",
         "3",
         "200",
         "0.09",
         "100"
        ],
        [
         "1",
         "2",
         "29",
         "202101",
         "2021",
         "1",
         "1",
         "3:30",
         "1",
         "Apparel",
         "Cleats",
         "Perfect Fitness Perfect Rip Deck",
         "918",
         "LATAM",
         "South America",
         "Brazil",
         "Puerto Rico",
         "2021",
         "1",
         "3",
         "Standard Class",
         "4",
         "60",
         "0.2",
         "147"
        ],
        [
         "2",
         "3",
         "32",
         "202101",
         "2021",
         "1",
         "1",
         "3:30",
         "4",
         "Footwear",
         "Cardio Equipment",
         "Nike Men's Free 5.0+ Running Shoe",
         "918",
         "LATAM",
         "South America",
         "Brazil",
         "Puerto Rico",
         "2021",
         "1",
         "3",
         "Standard Class",
         "4",
         "400",
         "0.06",
         "245"
        ],
        [
         "3",
         "4",
         "33",
         "202101",
         "2021",
         "1",
         "1",
         "3:30",
         "5",
         "Fan Shop",
         "Indoor/Outdoor Games",
         "O'Brien Men's Neoprene Life Vest",
         "918",
         "LATAM",
         "South America",
         "Brazil",
         "Puerto Rico",
         "2023",
         "9",
         "5",
         "Standard Class",
         "4",
         "250",
         "0.09",
         "125"
        ],
        [
         "4",
         "5",
         "109801",
         "202101",
         "2021",
         "1",
         "1",
         "4:12",
         "5",
         "Footwear",
         "Electronics",
         "Under Armour Women's Ignite Slide",
         "6124",
         "Europe",
         "Eastern Europe",
         "Belarus",
         "USA",
         "2021",
         "1",
         "5",
         "Standard Class",
         "4",
         "160",
         "0.15",
         "75"
        ]
       ],
       "shape": {
        "columns": 24,
        "rows": 5
       }
      },
      "text/html": [
       "<div>\n",
       "<style scoped>\n",
       "    .dataframe tbody tr th:only-of-type {\n",
       "        vertical-align: middle;\n",
       "    }\n",
       "\n",
       "    .dataframe tbody tr th {\n",
       "        vertical-align: top;\n",
       "    }\n",
       "\n",
       "    .dataframe thead th {\n",
       "        text-align: right;\n",
       "    }\n",
       "</style>\n",
       "<table border=\"1\" class=\"dataframe\">\n",
       "  <thead>\n",
       "    <tr style=\"text-align: right;\">\n",
       "      <th></th>\n",
       "      <th>Order ID</th>\n",
       "      <th>Order Item ID</th>\n",
       "      <th>Order YearMonth</th>\n",
       "      <th>Order Year</th>\n",
       "      <th>Order Month</th>\n",
       "      <th>Order Day</th>\n",
       "      <th>Order Time</th>\n",
       "      <th>Order Quantity</th>\n",
       "      <th>Product Department</th>\n",
       "      <th>Product Category</th>\n",
       "      <th>Product Name</th>\n",
       "      <th>Customer ID</th>\n",
       "      <th>Customer Market</th>\n",
       "      <th>Customer Region</th>\n",
       "      <th>Customer Country</th>\n",
       "      <th>Warehouse Country</th>\n",
       "      <th>Shipment Year</th>\n",
       "      <th>Shipment Month</th>\n",
       "      <th>Shipment Day</th>\n",
       "      <th>Shipment Mode</th>\n",
       "      <th>Shipment Days - Scheduled</th>\n",
       "      <th>Gross Sales</th>\n",
       "      <th>Discount %</th>\n",
       "      <th>Profit</th>\n",
       "    </tr>\n",
       "  </thead>\n",
       "  <tbody>\n",
       "    <tr>\n",
       "      <th>0</th>\n",
       "      <td>1</td>\n",
       "      <td>4381</td>\n",
       "      <td>202101</td>\n",
       "      <td>2021</td>\n",
       "      <td>1</td>\n",
       "      <td>1</td>\n",
       "      <td>2:48</td>\n",
       "      <td>1</td>\n",
       "      <td>Fan Shop</td>\n",
       "      <td>Water Sports</td>\n",
       "      <td>Pelican Sunstream 100 Kayak</td>\n",
       "      <td>7399</td>\n",
       "      <td>LATAM</td>\n",
       "      <td>Central America</td>\n",
       "      <td>Nicaragua</td>\n",
       "      <td>USA</td>\n",
       "      <td>2021</td>\n",
       "      <td>1</td>\n",
       "      <td>6</td>\n",
       "      <td>Same Day</td>\n",
       "      <td>3</td>\n",
       "      <td>200</td>\n",
       "      <td>0.09</td>\n",
       "      <td>100</td>\n",
       "    </tr>\n",
       "    <tr>\n",
       "      <th>1</th>\n",
       "      <td>2</td>\n",
       "      <td>29</td>\n",
       "      <td>202101</td>\n",
       "      <td>2021</td>\n",
       "      <td>1</td>\n",
       "      <td>1</td>\n",
       "      <td>3:30</td>\n",
       "      <td>1</td>\n",
       "      <td>Apparel</td>\n",
       "      <td>Cleats</td>\n",
       "      <td>Perfect Fitness Perfect Rip Deck</td>\n",
       "      <td>918</td>\n",
       "      <td>LATAM</td>\n",
       "      <td>South America</td>\n",
       "      <td>Brazil</td>\n",
       "      <td>Puerto Rico</td>\n",
       "      <td>2021</td>\n",
       "      <td>1</td>\n",
       "      <td>3</td>\n",
       "      <td>Standard Class</td>\n",
       "      <td>4</td>\n",
       "      <td>60</td>\n",
       "      <td>0.2</td>\n",
       "      <td>147</td>\n",
       "    </tr>\n",
       "    <tr>\n",
       "      <th>2</th>\n",
       "      <td>3</td>\n",
       "      <td>32</td>\n",
       "      <td>202101</td>\n",
       "      <td>2021</td>\n",
       "      <td>1</td>\n",
       "      <td>1</td>\n",
       "      <td>3:30</td>\n",
       "      <td>4</td>\n",
       "      <td>Footwear</td>\n",
       "      <td>Cardio Equipment</td>\n",
       "      <td>Nike Men's Free 5.0+ Running Shoe</td>\n",
       "      <td>918</td>\n",
       "      <td>LATAM</td>\n",
       "      <td>South America</td>\n",
       "      <td>Brazil</td>\n",
       "      <td>Puerto Rico</td>\n",
       "      <td>2021</td>\n",
       "      <td>1</td>\n",
       "      <td>3</td>\n",
       "      <td>Standard Class</td>\n",
       "      <td>4</td>\n",
       "      <td>400</td>\n",
       "      <td>0.06</td>\n",
       "      <td>245</td>\n",
       "    </tr>\n",
       "    <tr>\n",
       "      <th>3</th>\n",
       "      <td>4</td>\n",
       "      <td>33</td>\n",
       "      <td>202101</td>\n",
       "      <td>2021</td>\n",
       "      <td>1</td>\n",
       "      <td>1</td>\n",
       "      <td>3:30</td>\n",
       "      <td>5</td>\n",
       "      <td>Fan Shop</td>\n",
       "      <td>Indoor/Outdoor Games</td>\n",
       "      <td>O'Brien Men's Neoprene Life Vest</td>\n",
       "      <td>918</td>\n",
       "      <td>LATAM</td>\n",
       "      <td>South America</td>\n",
       "      <td>Brazil</td>\n",
       "      <td>Puerto Rico</td>\n",
       "      <td>2023</td>\n",
       "      <td>9</td>\n",
       "      <td>5</td>\n",
       "      <td>Standard Class</td>\n",
       "      <td>4</td>\n",
       "      <td>250</td>\n",
       "      <td>0.09</td>\n",
       "      <td>125</td>\n",
       "    </tr>\n",
       "    <tr>\n",
       "      <th>4</th>\n",
       "      <td>5</td>\n",
       "      <td>109801</td>\n",
       "      <td>202101</td>\n",
       "      <td>2021</td>\n",
       "      <td>1</td>\n",
       "      <td>1</td>\n",
       "      <td>4:12</td>\n",
       "      <td>5</td>\n",
       "      <td>Footwear</td>\n",
       "      <td>Electronics</td>\n",
       "      <td>Under Armour Women's Ignite Slide</td>\n",
       "      <td>6124</td>\n",
       "      <td>Europe</td>\n",
       "      <td>Eastern Europe</td>\n",
       "      <td>Belarus</td>\n",
       "      <td>USA</td>\n",
       "      <td>2021</td>\n",
       "      <td>1</td>\n",
       "      <td>5</td>\n",
       "      <td>Standard Class</td>\n",
       "      <td>4</td>\n",
       "      <td>160</td>\n",
       "      <td>0.15</td>\n",
       "      <td>75</td>\n",
       "    </tr>\n",
       "  </tbody>\n",
       "</table>\n",
       "</div>"
      ],
      "text/plain": [
       "   Order ID    Order Item ID    Order YearMonth    Order Year    Order Month   \\\n",
       "0          1             4381             202101          2021              1   \n",
       "1          2               29             202101          2021              1   \n",
       "2          3               32             202101          2021              1   \n",
       "3          4               33             202101          2021              1   \n",
       "4          5           109801             202101          2021              1   \n",
       "\n",
       "    Order Day  Order Time  Order Quantity Product Department  \\\n",
       "0            1       2:48               1           Fan Shop   \n",
       "1            1       3:30               1            Apparel   \n",
       "2            1       3:30               4           Footwear   \n",
       "3            1       3:30               5           Fan Shop   \n",
       "4            1       4:12               5           Footwear   \n",
       "\n",
       "       Product Category                       Product Name   Customer ID   \\\n",
       "0          Water Sports        Pelican Sunstream 100 Kayak           7399   \n",
       "1                Cleats   Perfect Fitness Perfect Rip Deck            918   \n",
       "2      Cardio Equipment  Nike Men's Free 5.0+ Running Shoe            918   \n",
       "3  Indoor/Outdoor Games   O'Brien Men's Neoprene Life Vest            918   \n",
       "4           Electronics  Under Armour Women's Ignite Slide           6124   \n",
       "\n",
       "  Customer Market  Customer Region Customer Country Warehouse Country  \\\n",
       "0           LATAM  Central America        Nicaragua               USA   \n",
       "1           LATAM    South America           Brazil       Puerto Rico   \n",
       "2           LATAM    South America           Brazil       Puerto Rico   \n",
       "3           LATAM    South America           Brazil       Puerto Rico   \n",
       "4          Europe   Eastern Europe          Belarus               USA   \n",
       "\n",
       "   Shipment Year  Shipment Month  Shipment Day   Shipment Mode  \\\n",
       "0           2021               1             6        Same Day   \n",
       "1           2021               1             3  Standard Class   \n",
       "2           2021               1             3  Standard Class   \n",
       "3           2023               9             5  Standard Class   \n",
       "4           2021               1             5  Standard Class   \n",
       "\n",
       "    Shipment Days - Scheduled    Gross Sales   Discount %    Profit   \n",
       "0                            3            200         0.09       100  \n",
       "1                            4             60          0.2       147  \n",
       "2                            4            400         0.06       245  \n",
       "3                            4            250         0.09       125  \n",
       "4                            4            160         0.15        75  "
      ]
     },
     "execution_count": 5,
     "metadata": {},
     "output_type": "execute_result"
    }
   ],
   "source": [
    "df_os.head(5)"
   ]
  },
  {
   "cell_type": "code",
   "execution_count": 6,
   "id": "1a94552e",
   "metadata": {},
   "outputs": [
    {
     "data": {
      "application/vnd.microsoft.datawrangler.viewer.v0+json": {
       "columns": [
        {
         "name": "index",
         "rawType": "int64",
         "type": "integer"
        },
        {
         "name": "Product Name",
         "rawType": "object",
         "type": "string"
        },
        {
         "name": " Year Month ",
         "rawType": "int64",
         "type": "integer"
        },
        {
         "name": " Warehouse Inventory ",
         "rawType": "int64",
         "type": "integer"
        },
        {
         "name": "Inventory Cost Per Unit",
         "rawType": "float64",
         "type": "float"
        }
       ],
       "ref": "9070d397-53da-43c5-84dc-b78fd995561d",
       "rows": [
        [
         "0",
         "Perfect Fitness Perfect Rip Deck",
         "202312",
         "0",
         "0.69517"
        ],
        [
         "1",
         "Nike Men's Dri-FIT Victory Golf Polo",
         "202312",
         "2",
         "1.29291"
        ],
        [
         "2",
         "O'Brien Men's Neoprene Life Vest",
         "202312",
         "0",
         "0.56531"
        ],
        [
         "3",
         "Nike Men's Free 5.0+ Running Shoe",
         "202312",
         "1",
         "1.26321"
        ],
        [
         "4",
         "Under Armour Girls' Toddler Spine Surge Runni",
         "202312",
         "0",
         "1.47648"
        ],
        [
         "5",
         "Nike Men's CJ Elite 2 TD Football Cleat",
         "202312",
         "0",
         "0.69591"
        ],
        [
         "6",
         "Field & Stream Sportsman 16 Gun Fire Safe",
         "202312",
         "0",
         "1.39148"
        ],
        [
         "7",
         "Pelican Sunstream 100 Kayak",
         "202312",
         "0",
         "0.20291"
        ],
        [
         "8",
         "Diamondback Women's Serene Classic Comfort Bi",
         "202312",
         "0",
         "1.54601"
        ],
        [
         "9",
         "ENO Atlas Hammock Straps",
         "202312",
         "0",
         "0.48119"
        ]
       ],
       "shape": {
        "columns": 4,
        "rows": 10
       }
      },
      "text/html": [
       "<div>\n",
       "<style scoped>\n",
       "    .dataframe tbody tr th:only-of-type {\n",
       "        vertical-align: middle;\n",
       "    }\n",
       "\n",
       "    .dataframe tbody tr th {\n",
       "        vertical-align: top;\n",
       "    }\n",
       "\n",
       "    .dataframe thead th {\n",
       "        text-align: right;\n",
       "    }\n",
       "</style>\n",
       "<table border=\"1\" class=\"dataframe\">\n",
       "  <thead>\n",
       "    <tr style=\"text-align: right;\">\n",
       "      <th></th>\n",
       "      <th>Product Name</th>\n",
       "      <th>Year Month</th>\n",
       "      <th>Warehouse Inventory</th>\n",
       "      <th>Inventory Cost Per Unit</th>\n",
       "    </tr>\n",
       "  </thead>\n",
       "  <tbody>\n",
       "    <tr>\n",
       "      <th>0</th>\n",
       "      <td>Perfect Fitness Perfect Rip Deck</td>\n",
       "      <td>202312</td>\n",
       "      <td>0</td>\n",
       "      <td>0.69517</td>\n",
       "    </tr>\n",
       "    <tr>\n",
       "      <th>1</th>\n",
       "      <td>Nike Men's Dri-FIT Victory Golf Polo</td>\n",
       "      <td>202312</td>\n",
       "      <td>2</td>\n",
       "      <td>1.29291</td>\n",
       "    </tr>\n",
       "    <tr>\n",
       "      <th>2</th>\n",
       "      <td>O'Brien Men's Neoprene Life Vest</td>\n",
       "      <td>202312</td>\n",
       "      <td>0</td>\n",
       "      <td>0.56531</td>\n",
       "    </tr>\n",
       "    <tr>\n",
       "      <th>3</th>\n",
       "      <td>Nike Men's Free 5.0+ Running Shoe</td>\n",
       "      <td>202312</td>\n",
       "      <td>1</td>\n",
       "      <td>1.26321</td>\n",
       "    </tr>\n",
       "    <tr>\n",
       "      <th>4</th>\n",
       "      <td>Under Armour Girls' Toddler Spine Surge Runni</td>\n",
       "      <td>202312</td>\n",
       "      <td>0</td>\n",
       "      <td>1.47648</td>\n",
       "    </tr>\n",
       "    <tr>\n",
       "      <th>5</th>\n",
       "      <td>Nike Men's CJ Elite 2 TD Football Cleat</td>\n",
       "      <td>202312</td>\n",
       "      <td>0</td>\n",
       "      <td>0.69591</td>\n",
       "    </tr>\n",
       "    <tr>\n",
       "      <th>6</th>\n",
       "      <td>Field &amp; Stream Sportsman 16 Gun Fire Safe</td>\n",
       "      <td>202312</td>\n",
       "      <td>0</td>\n",
       "      <td>1.39148</td>\n",
       "    </tr>\n",
       "    <tr>\n",
       "      <th>7</th>\n",
       "      <td>Pelican Sunstream 100 Kayak</td>\n",
       "      <td>202312</td>\n",
       "      <td>0</td>\n",
       "      <td>0.20291</td>\n",
       "    </tr>\n",
       "    <tr>\n",
       "      <th>8</th>\n",
       "      <td>Diamondback Women's Serene Classic Comfort Bi</td>\n",
       "      <td>202312</td>\n",
       "      <td>0</td>\n",
       "      <td>1.54601</td>\n",
       "    </tr>\n",
       "    <tr>\n",
       "      <th>9</th>\n",
       "      <td>ENO Atlas Hammock Straps</td>\n",
       "      <td>202312</td>\n",
       "      <td>0</td>\n",
       "      <td>0.48119</td>\n",
       "    </tr>\n",
       "  </tbody>\n",
       "</table>\n",
       "</div>"
      ],
      "text/plain": [
       "                                    Product Name   Year Month   \\\n",
       "0               Perfect Fitness Perfect Rip Deck        202312   \n",
       "1           Nike Men's Dri-FIT Victory Golf Polo        202312   \n",
       "2               O'Brien Men's Neoprene Life Vest        202312   \n",
       "3              Nike Men's Free 5.0+ Running Shoe        202312   \n",
       "4  Under Armour Girls' Toddler Spine Surge Runni        202312   \n",
       "5        Nike Men's CJ Elite 2 TD Football Cleat        202312   \n",
       "6      Field & Stream Sportsman 16 Gun Fire Safe        202312   \n",
       "7                    Pelican Sunstream 100 Kayak        202312   \n",
       "8  Diamondback Women's Serene Classic Comfort Bi        202312   \n",
       "9                       ENO Atlas Hammock Straps        202312   \n",
       "\n",
       "    Warehouse Inventory   Inventory Cost Per Unit  \n",
       "0                      0                  0.69517  \n",
       "1                      2                  1.29291  \n",
       "2                      0                  0.56531  \n",
       "3                      1                  1.26321  \n",
       "4                      0                  1.47648  \n",
       "5                      0                  0.69591  \n",
       "6                      0                  1.39148  \n",
       "7                      0                  0.20291  \n",
       "8                      0                  1.54601  \n",
       "9                      0                  0.48119  "
      ]
     },
     "execution_count": 6,
     "metadata": {},
     "output_type": "execute_result"
    }
   ],
   "source": [
    "df_inv.head(10)"
   ]
  },
  {
   "cell_type": "code",
   "execution_count": 7,
   "id": "365547d7",
   "metadata": {},
   "outputs": [
    {
     "data": {
      "text/plain": [
       "Index(['Order ID ', ' Order Item ID ', ' Order YearMonth ', ' Order Year ',\n",
       "       ' Order Month ', ' Order Day ', 'Order Time', 'Order Quantity',\n",
       "       'Product Department', 'Product Category', 'Product Name',\n",
       "       ' Customer ID ', 'Customer Market', 'Customer Region',\n",
       "       'Customer Country', 'Warehouse Country', 'Shipment Year',\n",
       "       'Shipment Month', 'Shipment Day', 'Shipment Mode',\n",
       "       ' Shipment Days - Scheduled ', ' Gross Sales ', ' Discount % ',\n",
       "       ' Profit '],\n",
       "      dtype='object')"
      ]
     },
     "execution_count": 7,
     "metadata": {},
     "output_type": "execute_result"
    }
   ],
   "source": [
    "df_os.columns"
   ]
  },
  {
   "cell_type": "code",
   "execution_count": 8,
   "id": "abb9844e",
   "metadata": {},
   "outputs": [
    {
     "data": {
      "text/plain": [
       "Index(['Product Name', ' Year Month ', ' Warehouse Inventory ',\n",
       "       'Inventory Cost Per Unit'],\n",
       "      dtype='object')"
      ]
     },
     "execution_count": 8,
     "metadata": {},
     "output_type": "execute_result"
    }
   ],
   "source": [
    "df_inv.columns"
   ]
  },
  {
   "cell_type": "code",
   "execution_count": 9,
   "id": "cfc5e0b5",
   "metadata": {},
   "outputs": [
    {
     "data": {
      "application/vnd.microsoft.datawrangler.viewer.v0+json": {
       "columns": [
        {
         "name": "index",
         "rawType": "int64",
         "type": "integer"
        },
        {
         "name": "Order ID",
         "rawType": "int64",
         "type": "integer"
        },
        {
         "name": "Order Item ID",
         "rawType": "int64",
         "type": "integer"
        },
        {
         "name": "Order YearMonth",
         "rawType": "int64",
         "type": "integer"
        },
        {
         "name": "Order Year",
         "rawType": "int64",
         "type": "integer"
        },
        {
         "name": "Order Month",
         "rawType": "int64",
         "type": "integer"
        },
        {
         "name": "Order Day",
         "rawType": "int64",
         "type": "integer"
        },
        {
         "name": "Order Time",
         "rawType": "object",
         "type": "string"
        },
        {
         "name": "Order Quantity",
         "rawType": "int64",
         "type": "integer"
        },
        {
         "name": "Product Department",
         "rawType": "object",
         "type": "string"
        },
        {
         "name": "Product Category",
         "rawType": "object",
         "type": "string"
        },
        {
         "name": "Product Name",
         "rawType": "object",
         "type": "string"
        },
        {
         "name": "Customer ID",
         "rawType": "int64",
         "type": "integer"
        },
        {
         "name": "Customer Market",
         "rawType": "object",
         "type": "string"
        },
        {
         "name": "Customer Region",
         "rawType": "object",
         "type": "string"
        },
        {
         "name": "Customer Country",
         "rawType": "object",
         "type": "string"
        },
        {
         "name": "Warehouse Country",
         "rawType": "object",
         "type": "string"
        },
        {
         "name": "Shipment Year",
         "rawType": "int64",
         "type": "integer"
        },
        {
         "name": "Shipment Month",
         "rawType": "int64",
         "type": "integer"
        },
        {
         "name": "Shipment Day",
         "rawType": "int64",
         "type": "integer"
        },
        {
         "name": "Shipment Mode",
         "rawType": "object",
         "type": "string"
        },
        {
         "name": "Shipment Days - Scheduled",
         "rawType": "int64",
         "type": "integer"
        },
        {
         "name": "Gross Sales",
         "rawType": "int64",
         "type": "integer"
        },
        {
         "name": "Discount %",
         "rawType": "object",
         "type": "string"
        },
        {
         "name": "Profit",
         "rawType": "int64",
         "type": "integer"
        },
        {
         "name": "date",
         "rawType": "datetime64[ns]",
         "type": "datetime"
        }
       ],
       "ref": "a1a2cf81-c208-45c7-bb3c-3c4160f16204",
       "rows": [
        [
         "0",
         "1",
         "4381",
         "202101",
         "2021",
         "1",
         "1",
         "2:48",
         "1",
         "Fan Shop",
         "Water Sports",
         "Pelican Sunstream 100 Kayak",
         "7399",
         "LATAM",
         "Central America",
         "Nicaragua",
         "USA",
         "2021",
         "1",
         "6",
         "Same Day",
         "3",
         "200",
         "0.09",
         "100",
         "2021-01-01 00:00:00"
        ],
        [
         "1",
         "2",
         "29",
         "202101",
         "2021",
         "1",
         "1",
         "3:30",
         "1",
         "Apparel",
         "Cleats",
         "Perfect Fitness Perfect Rip Deck",
         "918",
         "LATAM",
         "South America",
         "Brazil",
         "Puerto Rico",
         "2021",
         "1",
         "3",
         "Standard Class",
         "4",
         "60",
         "0.2",
         "147",
         "2021-01-01 00:00:00"
        ],
        [
         "2",
         "3",
         "32",
         "202101",
         "2021",
         "1",
         "1",
         "3:30",
         "4",
         "Footwear",
         "Cardio Equipment",
         "Nike Men's Free 5.0+ Running Shoe",
         "918",
         "LATAM",
         "South America",
         "Brazil",
         "Puerto Rico",
         "2021",
         "1",
         "3",
         "Standard Class",
         "4",
         "400",
         "0.06",
         "245",
         "2021-01-01 00:00:00"
        ],
        [
         "3",
         "4",
         "33",
         "202101",
         "2021",
         "1",
         "1",
         "3:30",
         "5",
         "Fan Shop",
         "Indoor/Outdoor Games",
         "O'Brien Men's Neoprene Life Vest",
         "918",
         "LATAM",
         "South America",
         "Brazil",
         "Puerto Rico",
         "2023",
         "9",
         "5",
         "Standard Class",
         "4",
         "250",
         "0.09",
         "125",
         "2021-01-01 00:00:00"
        ],
        [
         "4",
         "5",
         "109801",
         "202101",
         "2021",
         "1",
         "1",
         "4:12",
         "5",
         "Footwear",
         "Electronics",
         "Under Armour Women's Ignite Slide",
         "6124",
         "Europe",
         "Eastern Europe",
         "Belarus",
         "USA",
         "2021",
         "1",
         "5",
         "Standard Class",
         "4",
         "160",
         "0.15",
         "75",
         "2021-01-01 00:00:00"
        ]
       ],
       "shape": {
        "columns": 25,
        "rows": 5
       }
      },
      "text/html": [
       "<div>\n",
       "<style scoped>\n",
       "    .dataframe tbody tr th:only-of-type {\n",
       "        vertical-align: middle;\n",
       "    }\n",
       "\n",
       "    .dataframe tbody tr th {\n",
       "        vertical-align: top;\n",
       "    }\n",
       "\n",
       "    .dataframe thead th {\n",
       "        text-align: right;\n",
       "    }\n",
       "</style>\n",
       "<table border=\"1\" class=\"dataframe\">\n",
       "  <thead>\n",
       "    <tr style=\"text-align: right;\">\n",
       "      <th></th>\n",
       "      <th>Order ID</th>\n",
       "      <th>Order Item ID</th>\n",
       "      <th>Order YearMonth</th>\n",
       "      <th>Order Year</th>\n",
       "      <th>Order Month</th>\n",
       "      <th>Order Day</th>\n",
       "      <th>Order Time</th>\n",
       "      <th>Order Quantity</th>\n",
       "      <th>Product Department</th>\n",
       "      <th>Product Category</th>\n",
       "      <th>Product Name</th>\n",
       "      <th>Customer ID</th>\n",
       "      <th>Customer Market</th>\n",
       "      <th>Customer Region</th>\n",
       "      <th>Customer Country</th>\n",
       "      <th>Warehouse Country</th>\n",
       "      <th>Shipment Year</th>\n",
       "      <th>Shipment Month</th>\n",
       "      <th>Shipment Day</th>\n",
       "      <th>Shipment Mode</th>\n",
       "      <th>Shipment Days - Scheduled</th>\n",
       "      <th>Gross Sales</th>\n",
       "      <th>Discount %</th>\n",
       "      <th>Profit</th>\n",
       "      <th>date</th>\n",
       "    </tr>\n",
       "  </thead>\n",
       "  <tbody>\n",
       "    <tr>\n",
       "      <th>0</th>\n",
       "      <td>1</td>\n",
       "      <td>4381</td>\n",
       "      <td>202101</td>\n",
       "      <td>2021</td>\n",
       "      <td>1</td>\n",
       "      <td>1</td>\n",
       "      <td>2:48</td>\n",
       "      <td>1</td>\n",
       "      <td>Fan Shop</td>\n",
       "      <td>Water Sports</td>\n",
       "      <td>Pelican Sunstream 100 Kayak</td>\n",
       "      <td>7399</td>\n",
       "      <td>LATAM</td>\n",
       "      <td>Central America</td>\n",
       "      <td>Nicaragua</td>\n",
       "      <td>USA</td>\n",
       "      <td>2021</td>\n",
       "      <td>1</td>\n",
       "      <td>6</td>\n",
       "      <td>Same Day</td>\n",
       "      <td>3</td>\n",
       "      <td>200</td>\n",
       "      <td>0.09</td>\n",
       "      <td>100</td>\n",
       "      <td>2021-01-01</td>\n",
       "    </tr>\n",
       "    <tr>\n",
       "      <th>1</th>\n",
       "      <td>2</td>\n",
       "      <td>29</td>\n",
       "      <td>202101</td>\n",
       "      <td>2021</td>\n",
       "      <td>1</td>\n",
       "      <td>1</td>\n",
       "      <td>3:30</td>\n",
       "      <td>1</td>\n",
       "      <td>Apparel</td>\n",
       "      <td>Cleats</td>\n",
       "      <td>Perfect Fitness Perfect Rip Deck</td>\n",
       "      <td>918</td>\n",
       "      <td>LATAM</td>\n",
       "      <td>South America</td>\n",
       "      <td>Brazil</td>\n",
       "      <td>Puerto Rico</td>\n",
       "      <td>2021</td>\n",
       "      <td>1</td>\n",
       "      <td>3</td>\n",
       "      <td>Standard Class</td>\n",
       "      <td>4</td>\n",
       "      <td>60</td>\n",
       "      <td>0.2</td>\n",
       "      <td>147</td>\n",
       "      <td>2021-01-01</td>\n",
       "    </tr>\n",
       "    <tr>\n",
       "      <th>2</th>\n",
       "      <td>3</td>\n",
       "      <td>32</td>\n",
       "      <td>202101</td>\n",
       "      <td>2021</td>\n",
       "      <td>1</td>\n",
       "      <td>1</td>\n",
       "      <td>3:30</td>\n",
       "      <td>4</td>\n",
       "      <td>Footwear</td>\n",
       "      <td>Cardio Equipment</td>\n",
       "      <td>Nike Men's Free 5.0+ Running Shoe</td>\n",
       "      <td>918</td>\n",
       "      <td>LATAM</td>\n",
       "      <td>South America</td>\n",
       "      <td>Brazil</td>\n",
       "      <td>Puerto Rico</td>\n",
       "      <td>2021</td>\n",
       "      <td>1</td>\n",
       "      <td>3</td>\n",
       "      <td>Standard Class</td>\n",
       "      <td>4</td>\n",
       "      <td>400</td>\n",
       "      <td>0.06</td>\n",
       "      <td>245</td>\n",
       "      <td>2021-01-01</td>\n",
       "    </tr>\n",
       "    <tr>\n",
       "      <th>3</th>\n",
       "      <td>4</td>\n",
       "      <td>33</td>\n",
       "      <td>202101</td>\n",
       "      <td>2021</td>\n",
       "      <td>1</td>\n",
       "      <td>1</td>\n",
       "      <td>3:30</td>\n",
       "      <td>5</td>\n",
       "      <td>Fan Shop</td>\n",
       "      <td>Indoor/Outdoor Games</td>\n",
       "      <td>O'Brien Men's Neoprene Life Vest</td>\n",
       "      <td>918</td>\n",
       "      <td>LATAM</td>\n",
       "      <td>South America</td>\n",
       "      <td>Brazil</td>\n",
       "      <td>Puerto Rico</td>\n",
       "      <td>2023</td>\n",
       "      <td>9</td>\n",
       "      <td>5</td>\n",
       "      <td>Standard Class</td>\n",
       "      <td>4</td>\n",
       "      <td>250</td>\n",
       "      <td>0.09</td>\n",
       "      <td>125</td>\n",
       "      <td>2021-01-01</td>\n",
       "    </tr>\n",
       "    <tr>\n",
       "      <th>4</th>\n",
       "      <td>5</td>\n",
       "      <td>109801</td>\n",
       "      <td>202101</td>\n",
       "      <td>2021</td>\n",
       "      <td>1</td>\n",
       "      <td>1</td>\n",
       "      <td>4:12</td>\n",
       "      <td>5</td>\n",
       "      <td>Footwear</td>\n",
       "      <td>Electronics</td>\n",
       "      <td>Under Armour Women's Ignite Slide</td>\n",
       "      <td>6124</td>\n",
       "      <td>Europe</td>\n",
       "      <td>Eastern Europe</td>\n",
       "      <td>Belarus</td>\n",
       "      <td>USA</td>\n",
       "      <td>2021</td>\n",
       "      <td>1</td>\n",
       "      <td>5</td>\n",
       "      <td>Standard Class</td>\n",
       "      <td>4</td>\n",
       "      <td>160</td>\n",
       "      <td>0.15</td>\n",
       "      <td>75</td>\n",
       "      <td>2021-01-01</td>\n",
       "    </tr>\n",
       "  </tbody>\n",
       "</table>\n",
       "</div>"
      ],
      "text/plain": [
       "   Order ID  Order Item ID  Order YearMonth  Order Year  Order Month  \\\n",
       "0         1           4381           202101        2021            1   \n",
       "1         2             29           202101        2021            1   \n",
       "2         3             32           202101        2021            1   \n",
       "3         4             33           202101        2021            1   \n",
       "4         5         109801           202101        2021            1   \n",
       "\n",
       "   Order Day Order Time  Order Quantity Product Department  \\\n",
       "0          1       2:48               1           Fan Shop   \n",
       "1          1       3:30               1            Apparel   \n",
       "2          1       3:30               4           Footwear   \n",
       "3          1       3:30               5           Fan Shop   \n",
       "4          1       4:12               5           Footwear   \n",
       "\n",
       "       Product Category                       Product Name  Customer ID  \\\n",
       "0          Water Sports        Pelican Sunstream 100 Kayak         7399   \n",
       "1                Cleats   Perfect Fitness Perfect Rip Deck          918   \n",
       "2      Cardio Equipment  Nike Men's Free 5.0+ Running Shoe          918   \n",
       "3  Indoor/Outdoor Games   O'Brien Men's Neoprene Life Vest          918   \n",
       "4           Electronics  Under Armour Women's Ignite Slide         6124   \n",
       "\n",
       "  Customer Market  Customer Region Customer Country Warehouse Country  \\\n",
       "0           LATAM  Central America        Nicaragua               USA   \n",
       "1           LATAM    South America           Brazil       Puerto Rico   \n",
       "2           LATAM    South America           Brazil       Puerto Rico   \n",
       "3           LATAM    South America           Brazil       Puerto Rico   \n",
       "4          Europe   Eastern Europe          Belarus               USA   \n",
       "\n",
       "   Shipment Year  Shipment Month  Shipment Day   Shipment Mode  \\\n",
       "0           2021               1             6        Same Day   \n",
       "1           2021               1             3  Standard Class   \n",
       "2           2021               1             3  Standard Class   \n",
       "3           2023               9             5  Standard Class   \n",
       "4           2021               1             5  Standard Class   \n",
       "\n",
       "   Shipment Days - Scheduled  Gross Sales Discount %  Profit       date  \n",
       "0                          3          200       0.09     100 2021-01-01  \n",
       "1                          4           60        0.2     147 2021-01-01  \n",
       "2                          4          400       0.06     245 2021-01-01  \n",
       "3                          4          250       0.09     125 2021-01-01  \n",
       "4                          4          160       0.15      75 2021-01-01  "
      ]
     },
     "execution_count": 9,
     "metadata": {},
     "output_type": "execute_result"
    }
   ],
   "source": [
    "# Strip column names of whitespaces\n",
    "df_os.columns = df_os.columns.str.strip()\n",
    "df_inv.columns = df_inv.columns.str.strip()\n",
    "\n",
    "# Convert to datetime (first day of the month)\n",
    "df_os['date'] = pd.to_datetime(df_os['Order YearMonth'].astype(str), format='%Y%m')\n",
    "df_os['date'] = df_os['date'].dt.to_period('M').dt.to_timestamp()\n",
    "\n",
    "df_inv['date'] = pd.to_datetime(df_inv['Year Month'].astype(str), format='%Y%m')\n",
    "\n",
    "df_os.head()"
   ]
  },
  {
   "cell_type": "code",
   "execution_count": 10,
   "id": "5890d975",
   "metadata": {},
   "outputs": [
    {
     "data": {
      "application/vnd.microsoft.datawrangler.viewer.v0+json": {
       "columns": [
        {
         "name": "index",
         "rawType": "int64",
         "type": "integer"
        },
        {
         "name": "Product Name",
         "rawType": "object",
         "type": "string"
        },
        {
         "name": "Year Month",
         "rawType": "int64",
         "type": "integer"
        },
        {
         "name": "Warehouse Inventory",
         "rawType": "int64",
         "type": "integer"
        },
        {
         "name": "Inventory Cost Per Unit",
         "rawType": "float64",
         "type": "float"
        },
        {
         "name": "date",
         "rawType": "datetime64[ns]",
         "type": "datetime"
        }
       ],
       "ref": "2f7b2464-130b-4093-ba90-2fbf38324781",
       "rows": [
        [
         "0",
         "Perfect Fitness Perfect Rip Deck",
         "202312",
         "0",
         "0.69517",
         "2023-12-01 00:00:00"
        ],
        [
         "1",
         "Nike Men's Dri-FIT Victory Golf Polo",
         "202312",
         "2",
         "1.29291",
         "2023-12-01 00:00:00"
        ],
        [
         "2",
         "O'Brien Men's Neoprene Life Vest",
         "202312",
         "0",
         "0.56531",
         "2023-12-01 00:00:00"
        ],
        [
         "3",
         "Nike Men's Free 5.0+ Running Shoe",
         "202312",
         "1",
         "1.26321",
         "2023-12-01 00:00:00"
        ],
        [
         "4",
         "Under Armour Girls' Toddler Spine Surge Runni",
         "202312",
         "0",
         "1.47648",
         "2023-12-01 00:00:00"
        ]
       ],
       "shape": {
        "columns": 5,
        "rows": 5
       }
      },
      "text/html": [
       "<div>\n",
       "<style scoped>\n",
       "    .dataframe tbody tr th:only-of-type {\n",
       "        vertical-align: middle;\n",
       "    }\n",
       "\n",
       "    .dataframe tbody tr th {\n",
       "        vertical-align: top;\n",
       "    }\n",
       "\n",
       "    .dataframe thead th {\n",
       "        text-align: right;\n",
       "    }\n",
       "</style>\n",
       "<table border=\"1\" class=\"dataframe\">\n",
       "  <thead>\n",
       "    <tr style=\"text-align: right;\">\n",
       "      <th></th>\n",
       "      <th>Product Name</th>\n",
       "      <th>Year Month</th>\n",
       "      <th>Warehouse Inventory</th>\n",
       "      <th>Inventory Cost Per Unit</th>\n",
       "      <th>date</th>\n",
       "    </tr>\n",
       "  </thead>\n",
       "  <tbody>\n",
       "    <tr>\n",
       "      <th>0</th>\n",
       "      <td>Perfect Fitness Perfect Rip Deck</td>\n",
       "      <td>202312</td>\n",
       "      <td>0</td>\n",
       "      <td>0.69517</td>\n",
       "      <td>2023-12-01</td>\n",
       "    </tr>\n",
       "    <tr>\n",
       "      <th>1</th>\n",
       "      <td>Nike Men's Dri-FIT Victory Golf Polo</td>\n",
       "      <td>202312</td>\n",
       "      <td>2</td>\n",
       "      <td>1.29291</td>\n",
       "      <td>2023-12-01</td>\n",
       "    </tr>\n",
       "    <tr>\n",
       "      <th>2</th>\n",
       "      <td>O'Brien Men's Neoprene Life Vest</td>\n",
       "      <td>202312</td>\n",
       "      <td>0</td>\n",
       "      <td>0.56531</td>\n",
       "      <td>2023-12-01</td>\n",
       "    </tr>\n",
       "    <tr>\n",
       "      <th>3</th>\n",
       "      <td>Nike Men's Free 5.0+ Running Shoe</td>\n",
       "      <td>202312</td>\n",
       "      <td>1</td>\n",
       "      <td>1.26321</td>\n",
       "      <td>2023-12-01</td>\n",
       "    </tr>\n",
       "    <tr>\n",
       "      <th>4</th>\n",
       "      <td>Under Armour Girls' Toddler Spine Surge Runni</td>\n",
       "      <td>202312</td>\n",
       "      <td>0</td>\n",
       "      <td>1.47648</td>\n",
       "      <td>2023-12-01</td>\n",
       "    </tr>\n",
       "  </tbody>\n",
       "</table>\n",
       "</div>"
      ],
      "text/plain": [
       "                                    Product Name  Year Month  \\\n",
       "0               Perfect Fitness Perfect Rip Deck      202312   \n",
       "1           Nike Men's Dri-FIT Victory Golf Polo      202312   \n",
       "2               O'Brien Men's Neoprene Life Vest      202312   \n",
       "3              Nike Men's Free 5.0+ Running Shoe      202312   \n",
       "4  Under Armour Girls' Toddler Spine Surge Runni      202312   \n",
       "\n",
       "   Warehouse Inventory  Inventory Cost Per Unit       date  \n",
       "0                    0                  0.69517 2023-12-01  \n",
       "1                    2                  1.29291 2023-12-01  \n",
       "2                    0                  0.56531 2023-12-01  \n",
       "3                    1                  1.26321 2023-12-01  \n",
       "4                    0                  1.47648 2023-12-01  "
      ]
     },
     "execution_count": 10,
     "metadata": {},
     "output_type": "execute_result"
    }
   ],
   "source": [
    "df_inv.head()"
   ]
  },
  {
   "cell_type": "code",
   "execution_count": 11,
   "id": "fe1acc19",
   "metadata": {},
   "outputs": [],
   "source": [
    "# merge both files\n",
    "merged_df = pd.merge(df_os, df_inv, on=['Product Name','date'], how='left')\n"
   ]
  },
  {
   "cell_type": "code",
   "execution_count": 12,
   "id": "883eacee",
   "metadata": {},
   "outputs": [
    {
     "data": {
      "application/vnd.microsoft.datawrangler.viewer.v0+json": {
       "columns": [
        {
         "name": "index",
         "rawType": "int64",
         "type": "integer"
        },
        {
         "name": "Order ID",
         "rawType": "int64",
         "type": "integer"
        },
        {
         "name": "Order Item ID",
         "rawType": "int64",
         "type": "integer"
        },
        {
         "name": "Order YearMonth",
         "rawType": "int64",
         "type": "integer"
        },
        {
         "name": "Order Year",
         "rawType": "int64",
         "type": "integer"
        },
        {
         "name": "Order Month",
         "rawType": "int64",
         "type": "integer"
        },
        {
         "name": "Order Day",
         "rawType": "int64",
         "type": "integer"
        },
        {
         "name": "Order Time",
         "rawType": "object",
         "type": "string"
        },
        {
         "name": "Order Quantity",
         "rawType": "int64",
         "type": "integer"
        },
        {
         "name": "Product Department",
         "rawType": "object",
         "type": "string"
        },
        {
         "name": "Product Category",
         "rawType": "object",
         "type": "string"
        },
        {
         "name": "Product Name",
         "rawType": "object",
         "type": "string"
        },
        {
         "name": "Customer ID",
         "rawType": "int64",
         "type": "integer"
        },
        {
         "name": "Customer Market",
         "rawType": "object",
         "type": "string"
        },
        {
         "name": "Customer Region",
         "rawType": "object",
         "type": "string"
        },
        {
         "name": "Customer Country",
         "rawType": "object",
         "type": "string"
        },
        {
         "name": "Warehouse Country",
         "rawType": "object",
         "type": "string"
        },
        {
         "name": "Shipment Year",
         "rawType": "int64",
         "type": "integer"
        },
        {
         "name": "Shipment Month",
         "rawType": "int64",
         "type": "integer"
        },
        {
         "name": "Shipment Day",
         "rawType": "int64",
         "type": "integer"
        },
        {
         "name": "Shipment Mode",
         "rawType": "object",
         "type": "string"
        },
        {
         "name": "Shipment Days - Scheduled",
         "rawType": "int64",
         "type": "integer"
        },
        {
         "name": "Gross Sales",
         "rawType": "int64",
         "type": "integer"
        },
        {
         "name": "Discount %",
         "rawType": "object",
         "type": "string"
        },
        {
         "name": "Profit",
         "rawType": "int64",
         "type": "integer"
        },
        {
         "name": "date",
         "rawType": "datetime64[ns]",
         "type": "datetime"
        },
        {
         "name": "Year Month",
         "rawType": "int64",
         "type": "integer"
        },
        {
         "name": "Warehouse Inventory",
         "rawType": "int64",
         "type": "integer"
        },
        {
         "name": "Inventory Cost Per Unit",
         "rawType": "float64",
         "type": "float"
        }
       ],
       "ref": "21933ad3-f70f-4159-8df2-f72b1ef8cfc2",
       "rows": [
        [
         "0",
         "1",
         "4381",
         "202101",
         "2021",
         "1",
         "1",
         "2:48",
         "1",
         "Fan Shop",
         "Water Sports",
         "Pelican Sunstream 100 Kayak",
         "7399",
         "LATAM",
         "Central America",
         "Nicaragua",
         "USA",
         "2021",
         "1",
         "6",
         "Same Day",
         "3",
         "200",
         "0.09",
         "100",
         "2021-01-01 00:00:00",
         "202101",
         "132",
         "2.03202"
        ],
        [
         "1",
         "2",
         "29",
         "202101",
         "2021",
         "1",
         "1",
         "3:30",
         "1",
         "Apparel",
         "Cleats",
         "Perfect Fitness Perfect Rip Deck",
         "918",
         "LATAM",
         "South America",
         "Brazil",
         "Puerto Rico",
         "2021",
         "1",
         "3",
         "Standard Class",
         "4",
         "60",
         "0.2",
         "147",
         "2021-01-01 00:00:00",
         "202101",
         "254",
         "0.49486"
        ],
        [
         "2",
         "3",
         "32",
         "202101",
         "2021",
         "1",
         "1",
         "3:30",
         "4",
         "Footwear",
         "Cardio Equipment",
         "Nike Men's Free 5.0+ Running Shoe",
         "918",
         "LATAM",
         "South America",
         "Brazil",
         "Puerto Rico",
         "2021",
         "1",
         "3",
         "Standard Class",
         "4",
         "400",
         "0.06",
         "245",
         "2021-01-01 00:00:00",
         "202101",
         "18",
         "2.25689"
        ],
        [
         "3",
         "4",
         "33",
         "202101",
         "2021",
         "1",
         "1",
         "3:30",
         "5",
         "Fan Shop",
         "Indoor/Outdoor Games",
         "O'Brien Men's Neoprene Life Vest",
         "918",
         "LATAM",
         "South America",
         "Brazil",
         "Puerto Rico",
         "2023",
         "9",
         "5",
         "Standard Class",
         "4",
         "250",
         "0.09",
         "125",
         "2021-01-01 00:00:00",
         "202101",
         "442",
         "2.34227"
        ],
        [
         "4",
         "5",
         "109801",
         "202101",
         "2021",
         "1",
         "1",
         "4:12",
         "5",
         "Footwear",
         "Electronics",
         "Under Armour Women's Ignite Slide",
         "6124",
         "Europe",
         "Eastern Europe",
         "Belarus",
         "USA",
         "2021",
         "1",
         "5",
         "Standard Class",
         "4",
         "160",
         "0.15",
         "75",
         "2021-01-01 00:00:00",
         "202101",
         "18",
         "2.23827"
        ]
       ],
       "shape": {
        "columns": 28,
        "rows": 5
       }
      },
      "text/html": [
       "<div>\n",
       "<style scoped>\n",
       "    .dataframe tbody tr th:only-of-type {\n",
       "        vertical-align: middle;\n",
       "    }\n",
       "\n",
       "    .dataframe tbody tr th {\n",
       "        vertical-align: top;\n",
       "    }\n",
       "\n",
       "    .dataframe thead th {\n",
       "        text-align: right;\n",
       "    }\n",
       "</style>\n",
       "<table border=\"1\" class=\"dataframe\">\n",
       "  <thead>\n",
       "    <tr style=\"text-align: right;\">\n",
       "      <th></th>\n",
       "      <th>Order ID</th>\n",
       "      <th>Order Item ID</th>\n",
       "      <th>Order YearMonth</th>\n",
       "      <th>Order Year</th>\n",
       "      <th>Order Month</th>\n",
       "      <th>Order Day</th>\n",
       "      <th>Order Time</th>\n",
       "      <th>Order Quantity</th>\n",
       "      <th>Product Department</th>\n",
       "      <th>Product Category</th>\n",
       "      <th>Product Name</th>\n",
       "      <th>Customer ID</th>\n",
       "      <th>Customer Market</th>\n",
       "      <th>Customer Region</th>\n",
       "      <th>Customer Country</th>\n",
       "      <th>Warehouse Country</th>\n",
       "      <th>Shipment Year</th>\n",
       "      <th>Shipment Month</th>\n",
       "      <th>Shipment Day</th>\n",
       "      <th>Shipment Mode</th>\n",
       "      <th>Shipment Days - Scheduled</th>\n",
       "      <th>Gross Sales</th>\n",
       "      <th>Discount %</th>\n",
       "      <th>Profit</th>\n",
       "      <th>date</th>\n",
       "      <th>Year Month</th>\n",
       "      <th>Warehouse Inventory</th>\n",
       "      <th>Inventory Cost Per Unit</th>\n",
       "    </tr>\n",
       "  </thead>\n",
       "  <tbody>\n",
       "    <tr>\n",
       "      <th>0</th>\n",
       "      <td>1</td>\n",
       "      <td>4381</td>\n",
       "      <td>202101</td>\n",
       "      <td>2021</td>\n",
       "      <td>1</td>\n",
       "      <td>1</td>\n",
       "      <td>2:48</td>\n",
       "      <td>1</td>\n",
       "      <td>Fan Shop</td>\n",
       "      <td>Water Sports</td>\n",
       "      <td>Pelican Sunstream 100 Kayak</td>\n",
       "      <td>7399</td>\n",
       "      <td>LATAM</td>\n",
       "      <td>Central America</td>\n",
       "      <td>Nicaragua</td>\n",
       "      <td>USA</td>\n",
       "      <td>2021</td>\n",
       "      <td>1</td>\n",
       "      <td>6</td>\n",
       "      <td>Same Day</td>\n",
       "      <td>3</td>\n",
       "      <td>200</td>\n",
       "      <td>0.09</td>\n",
       "      <td>100</td>\n",
       "      <td>2021-01-01</td>\n",
       "      <td>202101</td>\n",
       "      <td>132</td>\n",
       "      <td>2.03202</td>\n",
       "    </tr>\n",
       "    <tr>\n",
       "      <th>1</th>\n",
       "      <td>2</td>\n",
       "      <td>29</td>\n",
       "      <td>202101</td>\n",
       "      <td>2021</td>\n",
       "      <td>1</td>\n",
       "      <td>1</td>\n",
       "      <td>3:30</td>\n",
       "      <td>1</td>\n",
       "      <td>Apparel</td>\n",
       "      <td>Cleats</td>\n",
       "      <td>Perfect Fitness Perfect Rip Deck</td>\n",
       "      <td>918</td>\n",
       "      <td>LATAM</td>\n",
       "      <td>South America</td>\n",
       "      <td>Brazil</td>\n",
       "      <td>Puerto Rico</td>\n",
       "      <td>2021</td>\n",
       "      <td>1</td>\n",
       "      <td>3</td>\n",
       "      <td>Standard Class</td>\n",
       "      <td>4</td>\n",
       "      <td>60</td>\n",
       "      <td>0.2</td>\n",
       "      <td>147</td>\n",
       "      <td>2021-01-01</td>\n",
       "      <td>202101</td>\n",
       "      <td>254</td>\n",
       "      <td>0.49486</td>\n",
       "    </tr>\n",
       "    <tr>\n",
       "      <th>2</th>\n",
       "      <td>3</td>\n",
       "      <td>32</td>\n",
       "      <td>202101</td>\n",
       "      <td>2021</td>\n",
       "      <td>1</td>\n",
       "      <td>1</td>\n",
       "      <td>3:30</td>\n",
       "      <td>4</td>\n",
       "      <td>Footwear</td>\n",
       "      <td>Cardio Equipment</td>\n",
       "      <td>Nike Men's Free 5.0+ Running Shoe</td>\n",
       "      <td>918</td>\n",
       "      <td>LATAM</td>\n",
       "      <td>South America</td>\n",
       "      <td>Brazil</td>\n",
       "      <td>Puerto Rico</td>\n",
       "      <td>2021</td>\n",
       "      <td>1</td>\n",
       "      <td>3</td>\n",
       "      <td>Standard Class</td>\n",
       "      <td>4</td>\n",
       "      <td>400</td>\n",
       "      <td>0.06</td>\n",
       "      <td>245</td>\n",
       "      <td>2021-01-01</td>\n",
       "      <td>202101</td>\n",
       "      <td>18</td>\n",
       "      <td>2.25689</td>\n",
       "    </tr>\n",
       "    <tr>\n",
       "      <th>3</th>\n",
       "      <td>4</td>\n",
       "      <td>33</td>\n",
       "      <td>202101</td>\n",
       "      <td>2021</td>\n",
       "      <td>1</td>\n",
       "      <td>1</td>\n",
       "      <td>3:30</td>\n",
       "      <td>5</td>\n",
       "      <td>Fan Shop</td>\n",
       "      <td>Indoor/Outdoor Games</td>\n",
       "      <td>O'Brien Men's Neoprene Life Vest</td>\n",
       "      <td>918</td>\n",
       "      <td>LATAM</td>\n",
       "      <td>South America</td>\n",
       "      <td>Brazil</td>\n",
       "      <td>Puerto Rico</td>\n",
       "      <td>2023</td>\n",
       "      <td>9</td>\n",
       "      <td>5</td>\n",
       "      <td>Standard Class</td>\n",
       "      <td>4</td>\n",
       "      <td>250</td>\n",
       "      <td>0.09</td>\n",
       "      <td>125</td>\n",
       "      <td>2021-01-01</td>\n",
       "      <td>202101</td>\n",
       "      <td>442</td>\n",
       "      <td>2.34227</td>\n",
       "    </tr>\n",
       "    <tr>\n",
       "      <th>4</th>\n",
       "      <td>5</td>\n",
       "      <td>109801</td>\n",
       "      <td>202101</td>\n",
       "      <td>2021</td>\n",
       "      <td>1</td>\n",
       "      <td>1</td>\n",
       "      <td>4:12</td>\n",
       "      <td>5</td>\n",
       "      <td>Footwear</td>\n",
       "      <td>Electronics</td>\n",
       "      <td>Under Armour Women's Ignite Slide</td>\n",
       "      <td>6124</td>\n",
       "      <td>Europe</td>\n",
       "      <td>Eastern Europe</td>\n",
       "      <td>Belarus</td>\n",
       "      <td>USA</td>\n",
       "      <td>2021</td>\n",
       "      <td>1</td>\n",
       "      <td>5</td>\n",
       "      <td>Standard Class</td>\n",
       "      <td>4</td>\n",
       "      <td>160</td>\n",
       "      <td>0.15</td>\n",
       "      <td>75</td>\n",
       "      <td>2021-01-01</td>\n",
       "      <td>202101</td>\n",
       "      <td>18</td>\n",
       "      <td>2.23827</td>\n",
       "    </tr>\n",
       "  </tbody>\n",
       "</table>\n",
       "</div>"
      ],
      "text/plain": [
       "   Order ID  Order Item ID  Order YearMonth  Order Year  Order Month  \\\n",
       "0         1           4381           202101        2021            1   \n",
       "1         2             29           202101        2021            1   \n",
       "2         3             32           202101        2021            1   \n",
       "3         4             33           202101        2021            1   \n",
       "4         5         109801           202101        2021            1   \n",
       "\n",
       "   Order Day Order Time  Order Quantity Product Department  \\\n",
       "0          1       2:48               1           Fan Shop   \n",
       "1          1       3:30               1            Apparel   \n",
       "2          1       3:30               4           Footwear   \n",
       "3          1       3:30               5           Fan Shop   \n",
       "4          1       4:12               5           Footwear   \n",
       "\n",
       "       Product Category                       Product Name  Customer ID  \\\n",
       "0          Water Sports        Pelican Sunstream 100 Kayak         7399   \n",
       "1                Cleats   Perfect Fitness Perfect Rip Deck          918   \n",
       "2      Cardio Equipment  Nike Men's Free 5.0+ Running Shoe          918   \n",
       "3  Indoor/Outdoor Games   O'Brien Men's Neoprene Life Vest          918   \n",
       "4           Electronics  Under Armour Women's Ignite Slide         6124   \n",
       "\n",
       "  Customer Market  Customer Region Customer Country Warehouse Country  \\\n",
       "0           LATAM  Central America        Nicaragua               USA   \n",
       "1           LATAM    South America           Brazil       Puerto Rico   \n",
       "2           LATAM    South America           Brazil       Puerto Rico   \n",
       "3           LATAM    South America           Brazil       Puerto Rico   \n",
       "4          Europe   Eastern Europe          Belarus               USA   \n",
       "\n",
       "   Shipment Year  Shipment Month  Shipment Day   Shipment Mode  \\\n",
       "0           2021               1             6        Same Day   \n",
       "1           2021               1             3  Standard Class   \n",
       "2           2021               1             3  Standard Class   \n",
       "3           2023               9             5  Standard Class   \n",
       "4           2021               1             5  Standard Class   \n",
       "\n",
       "   Shipment Days - Scheduled  Gross Sales Discount %  Profit       date  \\\n",
       "0                          3          200       0.09     100 2021-01-01   \n",
       "1                          4           60        0.2     147 2021-01-01   \n",
       "2                          4          400       0.06     245 2021-01-01   \n",
       "3                          4          250       0.09     125 2021-01-01   \n",
       "4                          4          160       0.15      75 2021-01-01   \n",
       "\n",
       "   Year Month  Warehouse Inventory  Inventory Cost Per Unit  \n",
       "0      202101                  132                  2.03202  \n",
       "1      202101                  254                  0.49486  \n",
       "2      202101                   18                  2.25689  \n",
       "3      202101                  442                  2.34227  \n",
       "4      202101                   18                  2.23827  "
      ]
     },
     "execution_count": 12,
     "metadata": {},
     "output_type": "execute_result"
    }
   ],
   "source": [
    "merged_df.head()"
   ]
  },
  {
   "cell_type": "code",
   "execution_count": 13,
   "id": "77d10aa2",
   "metadata": {},
   "outputs": [
    {
     "name": "stdout",
     "output_type": "stream",
     "text": [
      "<class 'pandas.core.frame.DataFrame'>\n",
      "RangeIndex: 30871 entries, 0 to 30870\n",
      "Data columns (total 28 columns):\n",
      " #   Column                     Non-Null Count  Dtype         \n",
      "---  ------                     --------------  -----         \n",
      " 0   Order ID                   30871 non-null  int64         \n",
      " 1   Order Item ID              30871 non-null  int64         \n",
      " 2   Order YearMonth            30871 non-null  int64         \n",
      " 3   Order Year                 30871 non-null  int64         \n",
      " 4   Order Month                30871 non-null  int64         \n",
      " 5   Order Day                  30871 non-null  int64         \n",
      " 6   Order Time                 30871 non-null  object        \n",
      " 7   Order Quantity             30871 non-null  int64         \n",
      " 8   Product Department         30871 non-null  object        \n",
      " 9   Product Category           30871 non-null  object        \n",
      " 10  Product Name               30871 non-null  object        \n",
      " 11  Customer ID                30871 non-null  int64         \n",
      " 12  Customer Market            30871 non-null  object        \n",
      " 13  Customer Region            30871 non-null  object        \n",
      " 14  Customer Country           30871 non-null  object        \n",
      " 15  Warehouse Country          30871 non-null  object        \n",
      " 16  Shipment Year              30871 non-null  int64         \n",
      " 17  Shipment Month             30871 non-null  int64         \n",
      " 18  Shipment Day               30871 non-null  int64         \n",
      " 19  Shipment Mode              30871 non-null  object        \n",
      " 20  Shipment Days - Scheduled  30871 non-null  int64         \n",
      " 21  Gross Sales                30871 non-null  int64         \n",
      " 22  Discount %                 30871 non-null  object        \n",
      " 23  Profit                     30871 non-null  int64         \n",
      " 24  date                       30871 non-null  datetime64[ns]\n",
      " 25  Year Month                 30871 non-null  int64         \n",
      " 26  Warehouse Inventory        30871 non-null  int64         \n",
      " 27  Inventory Cost Per Unit    30871 non-null  float64       \n",
      "dtypes: datetime64[ns](1), float64(1), int64(16), object(10)\n",
      "memory usage: 6.6+ MB\n"
     ]
    }
   ],
   "source": [
    "merged_df.info()"
   ]
  },
  {
   "cell_type": "code",
   "execution_count": 14,
   "id": "2319d7c7",
   "metadata": {},
   "outputs": [],
   "source": [
    "# Drop repetitive columns\n",
    "merged_df.drop(['Order Year', 'Order Month', 'Shipment Year', 'Shipment Month'], axis=1, inplace=True)"
   ]
  },
  {
   "cell_type": "code",
   "execution_count": 15,
   "id": "6c15dd9e",
   "metadata": {},
   "outputs": [
    {
     "data": {
      "text/plain": [
       "Index(['Order ID', 'Order Item ID', 'Order YearMonth', 'Order Day',\n",
       "       'Order Time', 'Order Quantity', 'Product Department',\n",
       "       'Product Category', 'Product Name', 'Customer ID', 'Customer Market',\n",
       "       'Customer Region', 'Customer Country', 'Warehouse Country',\n",
       "       'Shipment Day', 'Shipment Mode', 'Shipment Days - Scheduled',\n",
       "       'Gross Sales', 'Discount %', 'Profit', 'date', 'Year Month',\n",
       "       'Warehouse Inventory', 'Inventory Cost Per Unit'],\n",
       "      dtype='object')"
      ]
     },
     "execution_count": 15,
     "metadata": {},
     "output_type": "execute_result"
    }
   ],
   "source": [
    "merged_df.columns"
   ]
  },
  {
   "cell_type": "code",
   "execution_count": 16,
   "id": "fe95f220",
   "metadata": {},
   "outputs": [
    {
     "data": {
      "application/vnd.microsoft.datawrangler.viewer.v0+json": {
       "columns": [
        {
         "name": "index",
         "rawType": "object",
         "type": "string"
        },
        {
         "name": "0",
         "rawType": "int64",
         "type": "integer"
        }
       ],
       "ref": "0016baad-be0b-4568-80bd-94e453def7c0",
       "rows": [
        [
         "Order ID",
         "0"
        ],
        [
         "Order Item ID",
         "0"
        ],
        [
         "Order YearMonth",
         "0"
        ],
        [
         "Order Day",
         "0"
        ],
        [
         "Order Time",
         "0"
        ],
        [
         "Order Quantity",
         "0"
        ],
        [
         "Product Department",
         "0"
        ],
        [
         "Product Category",
         "0"
        ],
        [
         "Product Name",
         "0"
        ],
        [
         "Customer ID",
         "0"
        ],
        [
         "Customer Market",
         "0"
        ],
        [
         "Customer Region",
         "0"
        ],
        [
         "Customer Country",
         "0"
        ],
        [
         "Warehouse Country",
         "0"
        ],
        [
         "Shipment Day",
         "0"
        ],
        [
         "Shipment Mode",
         "0"
        ],
        [
         "Shipment Days - Scheduled",
         "0"
        ],
        [
         "Gross Sales",
         "0"
        ],
        [
         "Discount %",
         "0"
        ],
        [
         "Profit",
         "0"
        ],
        [
         "date",
         "0"
        ],
        [
         "Year Month",
         "0"
        ],
        [
         "Warehouse Inventory",
         "0"
        ],
        [
         "Inventory Cost Per Unit",
         "0"
        ]
       ],
       "shape": {
        "columns": 1,
        "rows": 24
       }
      },
      "text/plain": [
       "Order ID                     0\n",
       "Order Item ID                0\n",
       "Order YearMonth              0\n",
       "Order Day                    0\n",
       "Order Time                   0\n",
       "Order Quantity               0\n",
       "Product Department           0\n",
       "Product Category             0\n",
       "Product Name                 0\n",
       "Customer ID                  0\n",
       "Customer Market              0\n",
       "Customer Region              0\n",
       "Customer Country             0\n",
       "Warehouse Country            0\n",
       "Shipment Day                 0\n",
       "Shipment Mode                0\n",
       "Shipment Days - Scheduled    0\n",
       "Gross Sales                  0\n",
       "Discount %                   0\n",
       "Profit                       0\n",
       "date                         0\n",
       "Year Month                   0\n",
       "Warehouse Inventory          0\n",
       "Inventory Cost Per Unit      0\n",
       "dtype: int64"
      ]
     },
     "execution_count": 16,
     "metadata": {},
     "output_type": "execute_result"
    }
   ],
   "source": [
    "# Check for null values\n",
    "merged_df.isnull().sum()\n"
   ]
  },
  {
   "cell_type": "code",
   "execution_count": 17,
   "id": "9eb7424b",
   "metadata": {},
   "outputs": [
    {
     "data": {
      "text/plain": [
       "np.False_"
      ]
     },
     "execution_count": 17,
     "metadata": {},
     "output_type": "execute_result"
    }
   ],
   "source": [
    "# Check for duplicates\n",
    "merged_df.duplicated().any()"
   ]
  },
  {
   "cell_type": "code",
   "execution_count": 18,
   "id": "160d05f3",
   "metadata": {},
   "outputs": [],
   "source": [
    "# save to csv \n",
    "merged_df.to_csv('merged.csv', index=False)"
   ]
  },
  {
   "cell_type": "code",
   "execution_count": null,
   "id": "95bbc40d",
   "metadata": {},
   "outputs": [],
   "source": []
  }
 ],
 "metadata": {
  "kernelspec": {
   "display_name": "bevisvenv",
   "language": "python",
   "name": "python3"
  },
  "language_info": {
   "codemirror_mode": {
    "name": "ipython",
    "version": 3
   },
   "file_extension": ".py",
   "mimetype": "text/x-python",
   "name": "python",
   "nbconvert_exporter": "python",
   "pygments_lexer": "ipython3",
   "version": "3.12.6"
  }
 },
 "nbformat": 4,
 "nbformat_minor": 5
}
